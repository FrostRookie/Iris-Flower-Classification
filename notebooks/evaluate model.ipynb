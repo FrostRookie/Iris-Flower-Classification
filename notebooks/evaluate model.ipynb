{
 "cells": [
  {
   "cell_type": "code",
   "execution_count": 1,
   "id": "bd4a42ec",
   "metadata": {},
   "outputs": [
    {
     "name": "stdout",
     "output_type": "stream",
     "text": [
      "Accuracy: 0.9668161434977578\n",
      "\n",
      "Classification Report:\n",
      "               precision    recall  f1-score   support\n",
      "\n",
      "           0       0.96      1.00      0.98       965\n",
      "           1       0.99      0.76      0.86       150\n",
      "\n",
      "    accuracy                           0.97      1115\n",
      "   macro avg       0.98      0.88      0.92      1115\n",
      "weighted avg       0.97      0.97      0.96      1115\n",
      "\n",
      "\n",
      "Test Examples:\n",
      "1. 'Free prize! Click now!' → SPAM!\n",
      "2. 'Hey, how are you?' → NOT SPAM.\n",
      "made by evaluate model\n"
     ]
    }
   ],
   "source": [
    "# Email Spam Detection in VSCode\n",
    "import pandas as pd\n",
    "from sklearn.feature_extraction.text import TfidfVectorizer\n",
    "from sklearn.model_selection import train_test_split\n",
    "from sklearn.linear_model import LogisticRegression\n",
    "from sklearn.metrics import accuracy_score, classification_report\n",
    "\n",
    "# Load dataset (replace with your file path)\n",
    "data = pd.read_csv(\"spam.csv\", encoding=\"latin-1\")  # Use your dataset path\n",
    "data = data[['v1', 'v2']]  # Keep only label & text columns\n",
    "data.columns = ['label', 'message']\n",
    "\n",
    "# Convert labels to binary (0=ham, 1=spam)\n",
    "data['label'] = data['label'].map({'ham': 0, 'spam': 1})\n",
    "\n",
    "# Split data into training & testing\n",
    "X = data['message']\n",
    "y = data['label']\n",
    "X_train, X_test, y_train, y_test = train_test_split(X, y, test_size=0.2, random_state=42)\n",
    "\n",
    "# Convert text to numerical features (TF-IDF)\n",
    "tfidf = TfidfVectorizer(max_features=5000)  # Use top 5000 words\n",
    "X_train_tfidf = tfidf.fit_transform(X_train)\n",
    "X_test_tfidf = tfidf.transform(X_test)\n",
    "\n",
    "# Train Logistic Regression model\n",
    "model = LogisticRegression()\n",
    "model.fit(X_train_tfidf, y_train)\n",
    "\n",
    "# Evaluate model\n",
    "y_pred = model.predict(X_test_tfidf)\n",
    "print(\"Accuracy:\", accuracy_score(y_test, y_pred))\n",
    "print(\"\\nClassification Report:\\n\", classification_report(y_test, y_pred))\n",
    "\n",
    "# Test on a new email\n",
    "def predict_spam(email):\n",
    "    email_tfidf = tfidf.transform([email])\n",
    "    prediction = model.predict(email_tfidf)\n",
    "    return \"SPAM!\" if prediction == 1 else \"NOT SPAM.\"\n",
    "\n",
    "# Example predictions\n",
    "print(\"\\nTest Examples:\")\n",
    "print(\"1. 'Free prize! Click now!' →\", predict_spam(\"Free prize! Click now!\"))\n",
    "print(\"2. 'Hey, how are you?' →\", predict_spam(\"Hey, how are you?\"))\n",
    "print(\"made by evaluate model\")\n",
    "     "
   ]
  }
 ],
 "metadata": {
  "kernelspec": {
   "display_name": "Python 3",
   "language": "python",
   "name": "python3"
  },
  "language_info": {
   "codemirror_mode": {
    "name": "ipython",
    "version": 3
   },
   "file_extension": ".py",
   "mimetype": "text/x-python",
   "name": "python",
   "nbconvert_exporter": "python",
   "pygments_lexer": "ipython3",
   "version": "3.13.5"
  }
 },
 "nbformat": 4,
 "nbformat_minor": 5
}
