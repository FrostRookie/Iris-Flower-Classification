{
 "cells": [
  {
   "cell_type": "code",
   "execution_count": 2,
   "id": "b9fdc015",
   "metadata": {},
   "outputs": [
    {
     "name": "stdout",
     "output_type": "stream",
     "text": [
      "Accuracy: 0.9533632286995516\n",
      "\n",
      "Confusion Matrix:\n",
      " [[965   0]\n",
      " [ 52  98]]\n",
      "\n",
      "Classification Report:\n",
      "               precision    recall  f1-score   support\n",
      "\n",
      "           0       0.95      1.00      0.97       965\n",
      "           1       1.00      0.65      0.79       150\n",
      "\n",
      "    accuracy                           0.95      1115\n",
      "   macro avg       0.97      0.83      0.88      1115\n",
      "weighted avg       0.96      0.95      0.95      1115\n",
      "\n",
      "\n",
      "Test Examples:\n",
      "1. 'Win a free iPhone now!' → NOT SPAM.\n",
      "2. 'Meeting at 3pm tomorrow' → NOT SPAM.\n",
      "made by random forest model\n"
     ]
    }
   ],
   "source": [
    "# Email Spam Detection with Random Forest in VSCode\n",
    "import pandas as pd\n",
    "from sklearn.feature_extraction.text import TfidfVectorizer\n",
    "from sklearn.model_selection import train_test_split\n",
    "from sklearn.ensemble import RandomForestClassifier\n",
    "from sklearn.metrics import accuracy_score, classification_report, confusion_matrix\n",
    "\n",
    "# Load dataset (update path if needed)\n",
    "data = pd.read_csv(\"spam.csv\", encoding=\"latin-1\")  # Use your dataset path\n",
    "data = data[['v1', 'v2']]  # Keep only label & text columns\n",
    "data.columns = ['label', 'message']\n",
    "\n",
    "# Convert labels to binary (0=ham, 1=spam)\n",
    "data['label'] = data['label'].map({'ham': 0, 'spam': 1})\n",
    "\n",
    "# Split data into training & testing\n",
    "X = data['message']\n",
    "y = data['label']\n",
    "X_train, X_test, y_train, y_test = train_test_split(X, y, test_size=0.2, random_state=42)\n",
    "\n",
    "# Convert text to numerical features (TF-IDF)\n",
    "tfidf = TfidfVectorizer(max_features=5000)  # Use top 5000 words\n",
    "X_train_tfidf = tfidf.fit_transform(X_train)\n",
    "X_test_tfidf = tfidf.transform(X_test)\n",
    "\n",
    "# Train Random Forest model\n",
    "model = RandomForestClassifier(\n",
    "    n_estimators=100,  # Number of trees\n",
    "    max_depth=20,      # Maximum depth of each tree\n",
    "    random_state=42\n",
    ")\n",
    "model.fit(X_train_tfidf, y_train)\n",
    "\n",
    "# Evaluate model\n",
    "y_pred = model.predict(X_test_tfidf)\n",
    "print(\"Accuracy:\", accuracy_score(y_test, y_pred))\n",
    "print(\"\\nConfusion Matrix:\\n\", confusion_matrix(y_test, y_pred))\n",
    "print(\"\\nClassification Report:\\n\", classification_report(y_test, y_pred))\n",
    "\n",
    "# Test on new emails\n",
    "def predict_spam(email):\n",
    "    email_tfidf = tfidf.transform([email])\n",
    "    prediction = model.predict(email_tfidf)\n",
    "    return \"SPAM!\" if prediction == 1 else \"NOT SPAM.\"\n",
    "\n",
    "print(\"\\nTest Examples:\")\n",
    "print(\"1. 'Win a free iPhone now!' →\", predict_spam(\"Win a free iPhone now!\"))\n",
    "print(\"2. 'Meeting at 3pm tomorrow' →\", predict_spam(\"Meeting at 3pm tomorrow\"))\n",
    "print(\"made by random forest model\")"
   ]
  }
 ],
 "metadata": {
  "kernelspec": {
   "display_name": "Python 3",
   "language": "python",
   "name": "python3"
  },
  "language_info": {
   "codemirror_mode": {
    "name": "ipython",
    "version": 3
   },
   "file_extension": ".py",
   "mimetype": "text/x-python",
   "name": "python",
   "nbconvert_exporter": "python",
   "pygments_lexer": "ipython3",
   "version": "3.13.5"
  }
 },
 "nbformat": 4,
 "nbformat_minor": 5
}
